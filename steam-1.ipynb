{
 "cells": [
  {
   "cell_type": "code",
   "execution_count": 1,
   "metadata": {},
   "outputs": [],
   "source": [
    "#!pip install rpa \n",
    "#pip install jieba\n",
    "#pip install numpy\n",
    "#pip install networkx"
   ]
  },
  {
   "cell_type": "code",
   "execution_count": 2,
   "metadata": {},
   "outputs": [],
   "source": [
    "import json"
   ]
  },
  {
   "cell_type": "code",
   "execution_count": 3,
   "metadata": {},
   "outputs": [],
   "source": [
    "save_dict = {'keyvalue': 'sanguo', 'languages': 'chinese', 'types': 'action'}\n",
    "with open('options.json', 'w') as result_file:\n",
    "    json.dump(save_dict, result_file)"
   ]
  },
  {
   "cell_type": "code",
   "execution_count": 4,
   "metadata": {},
   "outputs": [],
   "source": [
    "with open('options.json', 'r') as result_file:\n",
    "    save_dict = json.load(result_file)"
   ]
  },
  {
   "cell_type": "code",
   "execution_count": 5,
   "metadata": {},
   "outputs": [],
   "source": [
    "keyvalue=save_dict['keyvalue']\n",
    "langueges=save_dict['languages']\n",
    "types=save_dict['types']"
   ]
  },
  {
   "cell_type": "code",
   "execution_count": 6,
   "metadata": {},
   "outputs": [],
   "source": [
    "import rpa as r\n",
    "# r.close()"
   ]
  },
  {
   "cell_type": "code",
   "execution_count": 7,
   "metadata": {},
   "outputs": [
    {
     "data": {
      "text/plain": [
       "True"
      ]
     },
     "execution_count": 7,
     "metadata": {},
     "output_type": "execute_result"
    }
   ],
   "source": [
    "r.init()"
   ]
  },
  {
   "cell_type": "code",
   "execution_count": 8,
   "metadata": {},
   "outputs": [
    {
     "data": {
      "text/plain": [
       "True"
      ]
     },
     "execution_count": 8,
     "metadata": {},
     "output_type": "execute_result"
    }
   ],
   "source": [
    "r.url('https://store.steampowered.com/')"
   ]
  },
  {
   "cell_type": "markdown",
   "metadata": {},
   "source": [
    "获取搜索的关键词："
   ]
  },
  {
   "cell_type": "code",
   "execution_count": 9,
   "metadata": {},
   "outputs": [
    {
     "name": "stdout",
     "output_type": "stream",
     "text": [
      "sanguo\n"
     ]
    }
   ],
   "source": [
    "keyvalue=keyvalue\n",
    "# 参数1：关键词\n",
    "print(keyvalue)"
   ]
  },
  {
   "cell_type": "code",
   "execution_count": 10,
   "metadata": {},
   "outputs": [
    {
     "data": {
      "text/plain": [
       "True"
      ]
     },
     "execution_count": 10,
     "metadata": {},
     "output_type": "execute_result"
    }
   ],
   "source": [
    "r.wait(0.5)\n",
    "r.type('//*[@id=\"store_nav_search_term\"]',keyvalue+'[enter]')\n"
   ]
  },
  {
   "cell_type": "markdown",
   "metadata": {},
   "source": [
    "展开所有的语言和类别："
   ]
  },
  {
   "cell_type": "code",
   "execution_count": 11,
   "metadata": {},
   "outputs": [
    {
     "data": {
      "text/plain": [
       "True"
      ]
     },
     "execution_count": 11,
     "metadata": {},
     "output_type": "execute_result"
    }
   ],
   "source": [
    "r.click('//*[@id=\"additional_search_options\"]/div[2]/a')\n",
    "r.click('//*[@id=\"additional_search_options\"]/div[3]/a')"
   ]
  },
  {
   "cell_type": "code",
   "execution_count": 12,
   "metadata": {},
   "outputs": [],
   "source": [
    "lan_num=r.count('//*[@id=\"narrow_language\"]/div')\n",
    "\n"
   ]
  },
  {
   "cell_type": "code",
   "execution_count": 13,
   "metadata": {},
   "outputs": [
    {
     "name": "stdout",
     "output_type": "stream",
     "text": [
      "English\n",
      "Simplified Chinese\n",
      "Traditional Chinese\n",
      "Japanese\n",
      "Korean\n",
      "Thai\n",
      "Bulgarian\n",
      "Czech\n",
      "Danish\n",
      "German\n",
      "Spanish - Spain\n",
      "Spanish - Latin America\n",
      "Greek\n",
      "French\n",
      "Italian\n",
      "Hungarian\n",
      "Dutch\n",
      "Norwegian\n",
      "Polish\n",
      "Portuguese\n",
      "Portuguese - Brazil\n",
      "Romanian\n",
      "Russian\n",
      "Finnish\n",
      "Swedish\n",
      "Turkish\n",
      "Vietnamese\n"
     ]
    }
   ],
   "source": [
    "for i in range(1,lan_num):\n",
    "    selector=f'//*[@id=\"narrow_language\"]/div[{i}]'\n",
    "    text=r.read(selector)\n",
    "    print (text)\n"
   ]
  },
  {
   "cell_type": "code",
   "execution_count": 14,
   "metadata": {},
   "outputs": [
    {
     "name": "stdout",
     "output_type": "stream",
     "text": [
      "[RPA][ERROR] - cannot find //*[@id=\"narrow_language\"]//span[contains(text(),\"{languages}}\")]\n"
     ]
    },
    {
     "data": {
      "text/plain": [
       "False"
      ]
     },
     "execution_count": 14,
     "metadata": {},
     "output_type": "execute_result"
    }
   ],
   "source": [
    "r.click('//*[@id=\"narrow_language\"]//span[contains(text(),\"{languages}}\")]')\n"
   ]
  },
  {
   "cell_type": "code",
   "execution_count": 15,
   "metadata": {},
   "outputs": [],
   "source": [
    "# r.click() types:\n"
   ]
  },
  {
   "cell_type": "code",
   "execution_count": 16,
   "metadata": {},
   "outputs": [],
   "source": [
    "from keywordextraction import key_word_extraction"
   ]
  },
  {
   "cell_type": "code",
   "execution_count": 17,
   "metadata": {
    "scrolled": true
   },
   "outputs": [
    {
     "name": "stderr",
     "output_type": "stream",
     "text": [
      "Building prefix dict from the default dictionary ...\n",
      "Loading model from cache C:\\Users\\LWH\\AppData\\Local\\Temp\\jieba.cache\n",
      "Loading model cost 0.685 seconds.\n",
      "Prefix dict has been built successfully.\n"
     ]
    }
   ],
   "source": [
    "h=0\n",
    "result=[]\n",
    "for i in range(1,11):\n",
    "    item_selector = f'(//span[@class=\"title\"])[{i}]'\n",
    "    if r.exist(item_selector):\n",
    "        r.click(item_selector)\n",
    "        r.wait(1)\n",
    "        #年龄问题\n",
    "        if r.exist('//div[@class=\"main_content_ctn\"]'):\n",
    "            r.click('//select[@name=\"ageYear\"]')\n",
    "            r.hover('//select[@name=\"ageYear\"]')\n",
    "            r.type('//select[@name=\"ageYear\"]','2000')\n",
    "            r.click('//select[@name=\"ageYear\"]')\n",
    "            r.click('(//a[@class=\"btnv6_blue_hoverfade btn_medium\"])[1]')\n",
    "            h=1\n",
    "        text=r.read('//div[@id=\"aboutThisGame\"]')\n",
    "        if r.exist('(//div[@class=\"discount_final_price\"])[1]'):\n",
    "            price=r.read('(//div[@class=\"discount_final_price\"])[1]')\n",
    "        else:\n",
    "            price=r.read('(//div[@class=\"game_purchase_price price\"])[1]')\n",
    "        name=r.read('//div[@id=\"appHubAppName\"]')\n",
    "        tag=[]\n",
    "        for j in range(1,4):\n",
    "            if r.exist(f'(//div[@class=\"glance_tags popular_tags\"]/a)[{j}]'):\n",
    "                tag1=r.read(f'(//div[@class=\"glance_tags popular_tags\"]/a)[{j}]')\n",
    "                tag.append(tag1)\n",
    "        if r.exist(f'//div[contains(. ,\"Publisher:\")]/div[@class=\"summary column\"]'):\n",
    "            publisher=r.read(f'//div[contains(. ,\"Publisher:\")]/div[@class=\"summary column\"]')\n",
    "        else:\n",
    "            publisher=\"\"\n",
    "        review=r.read('(//div[@class=\"summary column\"]/span[@itemprop=\"description\"])[1]')\n",
    "        text1=key_word_extraction(text)\n",
    "        #解决编码问题\n",
    "        r.wait(1)\n",
    "        #执行js脚本返回上一页\n",
    "        r.dom(\"window.history.go(-1)\")\n",
    "        template={\"description\":text1,\"price\":price,\"name\":name,\"tag\":tag,\"review\":review,\"publisher\":publisher}\n",
    "\n",
    "        result.append(template)\n",
    "\n",
    "        if(h==1):\n",
    "            r.dom(\"window.history.go(-1)\")\n",
    "            h=0\n",
    "        r.wait(2)\n",
    "aJson=json.dumps(result)\n",
    "filepath=f'output.txt'\n",
    "f=open(filepath,'w')\n",
    "f.write(aJson)\n",
    "f.close()\n",
    "with open('options.json', 'w') as result_file:\n",
    "    json.dump(result, result_file)"
   ]
  },
  {
   "cell_type": "code",
   "execution_count": 20,
   "metadata": {},
   "outputs": [],
   "source": [
    "with open('output.json', 'w') as result_file:\n",
    "    json.dump(result, result_file)"
   ]
  },
  {
   "cell_type": "code",
   "execution_count": 18,
   "metadata": {},
   "outputs": [
    {
     "data": {
      "text/plain": [
       "True"
      ]
     },
     "execution_count": 18,
     "metadata": {},
     "output_type": "execute_result"
    }
   ],
   "source": [
    "r.close()"
   ]
  }
 ],
 "metadata": {
  "interpreter": {
   "hash": "b8ec2f1bb01434fa3facb82e69c2ee7dbd8c56bf0035dca518b5e209a11cbaff"
  },
  "kernelspec": {
   "display_name": "Python 3",
   "language": "python",
   "name": "python3"
  },
  "language_info": {
   "codemirror_mode": {
    "name": "ipython",
    "version": 3
   },
   "file_extension": ".py",
   "mimetype": "text/x-python",
   "name": "python",
   "nbconvert_exporter": "python",
   "pygments_lexer": "ipython3",
   "version": "3.8.8"
  }
 },
 "nbformat": 4,
 "nbformat_minor": 2
}
